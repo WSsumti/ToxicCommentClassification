{
 "cells": [
  {
   "attachments": {},
   "cell_type": "markdown",
   "metadata": {},
   "source": [
    "# Preprocessing"
   ]
  },
  {
   "cell_type": "code",
   "execution_count": 1,
   "metadata": {},
   "outputs": [],
   "source": [
    "import pandas as pd\n",
    "\n",
    "from pyspark.sql import SparkSession\n",
    "import pyspark.sql.functions as F\n",
    "import pyspark.sql.types as T\n",
    "from pyspark.sql.types import StructType, StringType, IntegerType, StructField\n",
    "from pyspark.ml.feature import Tokenizer, HashingTF, IDF\n",
    "from pyspark.ml.classification import LogisticRegression"
   ]
  },
  {
   "attachments": {},
   "cell_type": "markdown",
   "metadata": {},
   "source": [
    "Create spark session"
   ]
  },
  {
   "cell_type": "code",
   "execution_count": 2,
   "metadata": {},
   "outputs": [],
   "source": [
    "spark = (SparkSession.builder.appName(\"toxiccomment\")\n",
    "                            .enableHiveSupport()\n",
    "                            .config(\"spark.executor.memory\", \"4G\")\n",
    "                            .config(\"spark.driver.memory\",\"18G\")\n",
    "                            .config(\"spark.executor.cores\",\"7\")\n",
    "                            .config(\"spark.python.worker.memory\",\"4G\")\n",
    "                            .config(\"spark.driver.maxResultSize\",\"0\")\n",
    "                            .config(\"spark.sql.crossJoin.enabled\", \"true\")\n",
    "                            .config(\"spark.serializer\",\"org.apache.spark.serializer.KryoSerializer\")\n",
    "                            .config(\"spark.default.parallelism\",\"2\").getOrCreate())"
   ]
  },
  {
   "cell_type": "code",
   "execution_count": 3,
   "metadata": {},
   "outputs": [],
   "source": [
    "train_schema = StructType([\n",
    "    StructField(\"id\", StringType(), True),\n",
    "    StructField(\"comment_text\", StringType(), True),\n",
    "    StructField(\"toxic\", IntegerType(), True),\n",
    "    StructField(\"severe_toxic\", IntegerType(), True),\n",
    "    StructField(\"obscene\", IntegerType(), True),\n",
    "    StructField(\"threat\", IntegerType(), True),\n",
    "    StructField(\"insult\", IntegerType(), True),\n",
    "    StructField(\"identity_hate\", IntegerType(), True)\n",
    "])\n",
    "df_train = spark.read.csv('train.csv', header=True, schema=train_schema, multiLine=True, escape=\"\\\"\")\n",
    "\n",
    "test_schema = StructType([\n",
    "    StructField(\"id\", StringType(), True),\n",
    "    StructField(\"comment_text\", StringType(), True)\n",
    "])\n",
    "df_test = spark.read.csv('test.csv', header=True, schema=test_schema, multiLine=True, escape=\"\\\"\")\n",
    "\n",
    "df = spark.read.csv('test_labels.csv', header=True, inferSchema=True)"
   ]
  },
  {
   "cell_type": "code",
   "execution_count": 4,
   "metadata": {},
   "outputs": [
    {
     "name": "stdout",
     "output_type": "stream",
     "text": [
      "+----------------+-----+------------+-------+------+------+-------------+\n",
      "|              id|toxic|severe_toxic|obscene|threat|insult|identity_hate|\n",
      "+----------------+-----+------------+-------+------+------+-------------+\n",
      "|00001cee341fdb12|   -1|          -1|     -1|    -1|    -1|           -1|\n",
      "|0000247867823ef7|   -1|          -1|     -1|    -1|    -1|           -1|\n",
      "|00013b17ad220c46|   -1|          -1|     -1|    -1|    -1|           -1|\n",
      "|00017563c3f7919a|   -1|          -1|     -1|    -1|    -1|           -1|\n",
      "|00017695ad8997eb|   -1|          -1|     -1|    -1|    -1|           -1|\n",
      "|0001ea8717f6de06|    0|           0|      0|     0|     0|            0|\n",
      "|00024115d4cbde0f|   -1|          -1|     -1|    -1|    -1|           -1|\n",
      "|000247e83dcc1211|    0|           0|      0|     0|     0|            0|\n",
      "|00025358d4737918|   -1|          -1|     -1|    -1|    -1|           -1|\n",
      "|00026d1092fe71cc|   -1|          -1|     -1|    -1|    -1|           -1|\n",
      "|0002eadc3b301559|   -1|          -1|     -1|    -1|    -1|           -1|\n",
      "|0002f87b16116a7f|    0|           0|      0|     0|     0|            0|\n",
      "|0003806b11932181|   -1|          -1|     -1|    -1|    -1|           -1|\n",
      "|0003e1cccfd5a40a|    0|           0|      0|     0|     0|            0|\n",
      "|00059ace3e3e9a53|    0|           0|      0|     0|     0|            0|\n",
      "|000634272d0d44eb|   -1|          -1|     -1|    -1|    -1|           -1|\n",
      "|000663aff0fffc80|    0|           0|      0|     0|     0|            0|\n",
      "|000689dd34e20979|    0|           0|      0|     0|     0|            0|\n",
      "|000834769115370c|   -1|          -1|     -1|    -1|    -1|           -1|\n",
      "|000844b52dee5f3f|    0|           0|      0|     0|     0|            0|\n",
      "+----------------+-----+------------+-------+------+------+-------------+\n",
      "only showing top 20 rows\n",
      "\n"
     ]
    }
   ],
   "source": [
    "df.show()"
   ]
  },
  {
   "cell_type": "code",
   "execution_count": 5,
   "metadata": {},
   "outputs": [
    {
     "name": "stdout",
     "output_type": "stream",
     "text": [
      "+----------------+--------------------+-----+------------+-------+------+------+-------------+\n",
      "|              id|        comment_text|toxic|severe_toxic|obscene|threat|insult|identity_hate|\n",
      "+----------------+--------------------+-----+------------+-------+------+------+-------------+\n",
      "|0000997932d777bf|Explanation\\nWhy ...|    0|           0|      0|     0|     0|            0|\n",
      "|000103f0d9cfb60f|D'aww! He matches...|    0|           0|      0|     0|     0|            0|\n",
      "|000113f07ec002fd|Hey man, I'm real...|    0|           0|      0|     0|     0|            0|\n",
      "|0001b41b1c6bb37e|\"\\nMore\\nI can't ...|    0|           0|      0|     0|     0|            0|\n",
      "|0001d958c54c6e35|You, sir, are my ...|    0|           0|      0|     0|     0|            0|\n",
      "|00025465d4725e87|\"\\n\\nCongratulati...|    0|           0|      0|     0|     0|            0|\n",
      "|0002bcb3da6cb337|COCKSUCKER BEFORE...|    1|           1|      1|     0|     1|            0|\n",
      "|00031b1e95af7921|Your vandalism to...|    0|           0|      0|     0|     0|            0|\n",
      "|00037261f536c51d|Sorry if the word...|    0|           0|      0|     0|     0|            0|\n",
      "|00040093b2687caa|alignment on this...|    0|           0|      0|     0|     0|            0|\n",
      "|0005300084f90edc|\"\\nFair use ratio...|    0|           0|      0|     0|     0|            0|\n",
      "|00054a5e18b50dd4|bbq \\n\\nbe a man ...|    0|           0|      0|     0|     0|            0|\n",
      "|0005c987bdfc9d4b|Hey... what is it...|    1|           0|      0|     0|     0|            0|\n",
      "|0006f16e4e9f292e|Before you start ...|    0|           0|      0|     0|     0|            0|\n",
      "|00070ef96486d6f9|Oh, and the girl ...|    0|           0|      0|     0|     0|            0|\n",
      "|00078f8ce7eb276d|\"\\n\\nJuelz Santan...|    0|           0|      0|     0|     0|            0|\n",
      "|0007e25b2121310b|Bye! \\n\\nDon't lo...|    1|           0|      0|     0|     0|            0|\n",
      "|000897889268bc93|REDIRECT Talk:Voy...|    0|           0|      0|     0|     0|            0|\n",
      "|0009801bd85e5806|The Mitsurugi poi...|    0|           0|      0|     0|     0|            0|\n",
      "|0009eaea3325de8c|Don't mean to bot...|    0|           0|      0|     0|     0|            0|\n",
      "+----------------+--------------------+-----+------------+-------+------+------+-------------+\n",
      "only showing top 20 rows\n",
      "\n"
     ]
    }
   ],
   "source": [
    "df_train.show()"
   ]
  },
  {
   "cell_type": "code",
   "execution_count": 6,
   "metadata": {},
   "outputs": [
    {
     "name": "stdout",
     "output_type": "stream",
     "text": [
      "+----------------+--------------------+\n",
      "|              id|        comment_text|\n",
      "+----------------+--------------------+\n",
      "|00001cee341fdb12|Yo bitch Ja Rule ...|\n",
      "|0000247867823ef7|== From RfC == \\n...|\n",
      "|00013b17ad220c46|\" \\n\\n == Sources...|\n",
      "|00017563c3f7919a|:If you have a lo...|\n",
      "|00017695ad8997eb|I don't anonymous...|\n",
      "|0001ea8717f6de06|Thank you for und...|\n",
      "|00024115d4cbde0f|Please do not add...|\n",
      "|000247e83dcc1211|:Dear god this si...|\n",
      "|00025358d4737918|\" \\n Only a fool ...|\n",
      "|00026d1092fe71cc|== Double Redirec...|\n",
      "|0002eadc3b301559|I think its crap ...|\n",
      "|0002f87b16116a7f|\"::: Somebody wil...|\n",
      "|0003806b11932181|, 25 February 201...|\n",
      "|0003e1cccfd5a40a|\" \\n\\n It says it...|\n",
      "|00059ace3e3e9a53|\" \\n\\n == Before ...|\n",
      "|000634272d0d44eb|==Current Positio...|\n",
      "|000663aff0fffc80|this other one fr...|\n",
      "|000689dd34e20979|== Reason for ban...|\n",
      "|000834769115370c|:: Wallamoose was...|\n",
      "|000844b52dee5f3f||blocked]] from e...|\n",
      "+----------------+--------------------+\n",
      "only showing top 20 rows\n",
      "\n"
     ]
    }
   ],
   "source": [
    "df_test.show()"
   ]
  },
  {
   "attachments": {},
   "cell_type": "markdown",
   "metadata": {},
   "source": [
    "Check cache so we will read from disk once"
   ]
  },
  {
   "cell_type": "code",
   "execution_count": 7,
   "metadata": {},
   "outputs": [
    {
     "name": "stdout",
     "output_type": "stream",
     "text": [
      "True\n",
      "True\n",
      "True\n"
     ]
    }
   ],
   "source": [
    "df.cache()\n",
    "df_train.cache()\n",
    "df_test.cache()\n",
    "print(df.is_cached)\n",
    "print(df_train.is_cached)\n",
    "print(df_test.is_cached)"
   ]
  },
  {
   "attachments": {},
   "cell_type": "markdown",
   "metadata": {},
   "source": [
    "Check schema"
   ]
  },
  {
   "cell_type": "code",
   "execution_count": 8,
   "metadata": {},
   "outputs": [
    {
     "name": "stdout",
     "output_type": "stream",
     "text": [
      "root\n",
      " |-- id: string (nullable = true)\n",
      " |-- toxic: integer (nullable = true)\n",
      " |-- severe_toxic: integer (nullable = true)\n",
      " |-- obscene: integer (nullable = true)\n",
      " |-- threat: integer (nullable = true)\n",
      " |-- insult: integer (nullable = true)\n",
      " |-- identity_hate: integer (nullable = true)\n",
      "\n"
     ]
    }
   ],
   "source": [
    "df.printSchema()"
   ]
  },
  {
   "cell_type": "code",
   "execution_count": 9,
   "metadata": {},
   "outputs": [
    {
     "name": "stdout",
     "output_type": "stream",
     "text": [
      "root\n",
      " |-- id: string (nullable = true)\n",
      " |-- comment_text: string (nullable = true)\n",
      " |-- toxic: integer (nullable = true)\n",
      " |-- severe_toxic: integer (nullable = true)\n",
      " |-- obscene: integer (nullable = true)\n",
      " |-- threat: integer (nullable = true)\n",
      " |-- insult: integer (nullable = true)\n",
      " |-- identity_hate: integer (nullable = true)\n",
      "\n"
     ]
    }
   ],
   "source": [
    "df_train.printSchema()"
   ]
  },
  {
   "cell_type": "code",
   "execution_count": 10,
   "metadata": {},
   "outputs": [
    {
     "name": "stdout",
     "output_type": "stream",
     "text": [
      "root\n",
      " |-- id: string (nullable = true)\n",
      " |-- comment_text: string (nullable = true)\n",
      "\n"
     ]
    }
   ],
   "source": [
    "df_test.printSchema()"
   ]
  },
  {
   "attachments": {},
   "cell_type": "markdown",
   "metadata": {},
   "source": [
    "Check null value"
   ]
  },
  {
   "cell_type": "code",
   "execution_count": 11,
   "metadata": {},
   "outputs": [
    {
     "name": "stdout",
     "output_type": "stream",
     "text": [
      "+---+-----+------------+-------+------+------+-------------+\n",
      "| id|toxic|severe_toxic|obscene|threat|insult|identity_hate|\n",
      "+---+-----+------------+-------+------+------+-------------+\n",
      "|  0|    0|           0|      0|     0|     0|            0|\n",
      "+---+-----+------------+-------+------+------+-------------+\n",
      "\n",
      "153164\n",
      "+---+------------+-----+------------+-------+------+------+-------------+\n",
      "| id|comment_text|toxic|severe_toxic|obscene|threat|insult|identity_hate|\n",
      "+---+------------+-----+------------+-------+------+------+-------------+\n",
      "|  0|           0|    0|           0|      0|     0|     0|            0|\n",
      "+---+------------+-----+------------+-------+------+------+-------------+\n",
      "\n",
      "159571\n",
      "+---+------------+\n",
      "| id|comment_text|\n",
      "+---+------------+\n",
      "|  0|           0|\n",
      "+---+------------+\n",
      "\n",
      "153164\n"
     ]
    }
   ],
   "source": [
    "from pyspark.sql.functions import col, count, when\n",
    "\n",
    "df.select([count(when(col(c).isNull() , c)).alias(c) for c in df.columns]).show()\n",
    "print(df.count())\n",
    "df_train.select([count(when(col(c).isNull() , c)).alias(c) for c in df_train.columns]).show()\n",
    "print(df_train.count())\n",
    "df_test.select([count(when(col(c).isNull() , c)).alias(c) for c in df_test.columns]).show()\n",
    "print(df_test.count())"
   ]
  },
  {
   "attachments": {},
   "cell_type": "markdown",
   "metadata": {},
   "source": [
    "# Modeling"
   ]
  },
  {
   "attachments": {},
   "cell_type": "markdown",
   "metadata": {},
   "source": [
    "Create a tokenizer:"
   ]
  },
  {
   "cell_type": "code",
   "execution_count": 12,
   "metadata": {},
   "outputs": [],
   "source": [
    "tokenizer = Tokenizer(inputCol=\"comment_text\", outputCol=\"words\")\n",
    "transformed_data = tokenizer.transform(df_train)\n",
    "test_transformed_data = tokenizer.transform(df_test)"
   ]
  },
  {
   "cell_type": "code",
   "execution_count": 13,
   "metadata": {},
   "outputs": [
    {
     "name": "stdout",
     "output_type": "stream",
     "text": [
      "+--------------------+--------------------+\n",
      "|        comment_text|               words|\n",
      "+--------------------+--------------------+\n",
      "|Explanation\\nWhy ...|[explanation, why...|\n",
      "|D'aww! He matches...|[d'aww!, he, matc...|\n",
      "|Hey man, I'm real...|[hey, man,, i'm, ...|\n",
      "|\"\\nMore\\nI can't ...|[\", more, i, can'...|\n",
      "|You, sir, are my ...|[you,, sir,, are,...|\n",
      "|\"\\n\\nCongratulati...|[\", , congratulat...|\n",
      "|COCKSUCKER BEFORE...|[cocksucker, befo...|\n",
      "|Your vandalism to...|[your, vandalism,...|\n",
      "|Sorry if the word...|[sorry, if, the, ...|\n",
      "|alignment on this...|[alignment, on, t...|\n",
      "|\"\\nFair use ratio...|[\", fair, use, ra...|\n",
      "|bbq \\n\\nbe a man ...|[bbq, , , be, a, ...|\n",
      "|Hey... what is it...|[hey..., what, is...|\n",
      "|Before you start ...|[before, you, sta...|\n",
      "|Oh, and the girl ...|[oh,, and, the, g...|\n",
      "|\"\\n\\nJuelz Santan...|[\", , juelz, sant...|\n",
      "|Bye! \\n\\nDon't lo...|[bye!, , , don't,...|\n",
      "|REDIRECT Talk:Voy...|[redirect, talk:v...|\n",
      "|The Mitsurugi poi...|[the, mitsurugi, ...|\n",
      "|Don't mean to bot...|[don't, mean, to,...|\n",
      "+--------------------+--------------------+\n",
      "only showing top 20 rows\n",
      "\n",
      "+--------------------+--------------------+\n",
      "|        comment_text|               words|\n",
      "+--------------------+--------------------+\n",
      "|Yo bitch Ja Rule ...|[yo, bitch, ja, r...|\n",
      "|== From RfC == \\n...|[==, from, rfc, =...|\n",
      "|\" \\n\\n == Sources...|[\", , , , ==, sou...|\n",
      "|:If you have a lo...|[:if, you, have, ...|\n",
      "|I don't anonymous...|[i, don't, anonym...|\n",
      "|Thank you for und...|[thank, you, for,...|\n",
      "|Please do not add...|[please, do, not,...|\n",
      "|:Dear god this si...|[:dear, god, this...|\n",
      "|\" \\n Only a fool ...|[\", , , only, a, ...|\n",
      "|== Double Redirec...|[==, double, redi...|\n",
      "|I think its crap ...|[i, think, its, c...|\n",
      "|\"::: Somebody wil...|[\":::, somebody, ...|\n",
      "|, 25 February 201...|[,, 25, february,...|\n",
      "|\" \\n\\n It says it...|[\", , , , it, say...|\n",
      "|\" \\n\\n == Before ...|[\", , , , ==, bef...|\n",
      "|==Current Positio...|[==current, posit...|\n",
      "|this other one fr...|[this, other, one...|\n",
      "|== Reason for ban...|[==, reason, for,...|\n",
      "|:: Wallamoose was...|[::, wallamoose, ...|\n",
      "||blocked]] from e...|[|blocked]], from...|\n",
      "+--------------------+--------------------+\n",
      "only showing top 20 rows\n",
      "\n"
     ]
    }
   ],
   "source": [
    "transformed_data.select([\"comment_text\", \"words\"]).show()\n",
    "test_transformed_data.select([\"comment_text\", \"words\"]).show()"
   ]
  },
  {
   "cell_type": "code",
   "execution_count": 14,
   "metadata": {},
   "outputs": [],
   "source": [
    "hashingTF = HashingTF(inputCol=\"words\", outputCol=\"features\")\n",
    "tf = hashingTF.transform(transformed_data)\n",
    "test_tf = hashingTF.transform(test_transformed_data)"
   ]
  },
  {
   "cell_type": "code",
   "execution_count": 15,
   "metadata": {},
   "outputs": [
    {
     "name": "stdout",
     "output_type": "stream",
     "text": [
      "+----------------+--------------------+-----+------------+-------+------+------+-------------+--------------------+--------------------+\n",
      "|              id|        comment_text|toxic|severe_toxic|obscene|threat|insult|identity_hate|               words|            features|\n",
      "+----------------+--------------------+-----+------------+-------+------+------+-------------+--------------------+--------------------+\n",
      "|0000997932d777bf|Explanation\\nWhy ...|    0|           0|      0|     0|     0|            0|[explanation, why...|(262144,[6240,722...|\n",
      "|000103f0d9cfb60f|D'aww! He matches...|    0|           0|      0|     0|     0|            0|[d'aww!, he, matc...|(262144,[2195,471...|\n",
      "|000113f07ec002fd|Hey man, I'm real...|    0|           0|      0|     0|     0|            0|[hey, man,, i'm, ...|(262144,[18700,27...|\n",
      "|0001b41b1c6bb37e|\"\\nMore\\nI can't ...|    0|           0|      0|     0|     0|            0|[\", more, i, can'...|(262144,[11104,16...|\n",
      "|0001d958c54c6e35|You, sir, are my ...|    0|           0|      0|     0|     0|            0|[you,, sir,, are,...|(262144,[20853,58...|\n",
      "|00025465d4725e87|\"\\n\\nCongratulati...|    0|           0|      0|     0|     0|            0|[\", , congratulat...|(262144,[5537,445...|\n",
      "|0002bcb3da6cb337|COCKSUCKER BEFORE...|    1|           1|      1|     0|     1|            0|[cocksucker, befo...|(262144,[34343,45...|\n",
      "|00031b1e95af7921|Your vandalism to...|    0|           0|      0|     0|     0|            0|[your, vandalism,...|(262144,[7221,275...|\n",
      "|00037261f536c51d|Sorry if the word...|    0|           0|      0|     0|     0|            0|[sorry, if, the, ...|(262144,[5232,190...|\n",
      "|00040093b2687caa|alignment on this...|    0|           0|      0|     0|     0|            0|[alignment, on, t...|(262144,[27576,33...|\n",
      "|0005300084f90edc|\"\\nFair use ratio...|    0|           0|      0|     0|     0|            0|[\", fair, use, ra...|(262144,[3564,365...|\n",
      "|00054a5e18b50dd4|bbq \\n\\nbe a man ...|    0|           0|      0|     0|     0|            0|[bbq, , , be, a, ...|(262144,[72462,80...|\n",
      "|0005c987bdfc9d4b|Hey... what is it...|    1|           0|      0|     0|     0|            0|[hey..., what, is...|(262144,[19208,21...|\n",
      "|0006f16e4e9f292e|Before you start ...|    0|           0|      0|     0|     0|            0|[before, you, sta...|(262144,[5325,160...|\n",
      "|00070ef96486d6f9|Oh, and the girl ...|    0|           0|      0|     0|     0|            0|[oh,, and, the, g...|(262144,[13781,19...|\n",
      "|00078f8ce7eb276d|\"\\n\\nJuelz Santan...|    0|           0|      0|     0|     0|            0|[\", , juelz, sant...|(262144,[1450,328...|\n",
      "|0007e25b2121310b|Bye! \\n\\nDon't lo...|    1|           0|      0|     0|     0|            0|[bye!, , , don't,...|(262144,[7221,469...|\n",
      "|000897889268bc93|REDIRECT Talk:Voy...|    0|           0|      0|     0|     0|            0|[redirect, talk:v...|(262144,[9693,760...|\n",
      "|0009801bd85e5806|The Mitsurugi poi...|    0|           0|      0|     0|     0|            0|[the, mitsurugi, ...|(262144,[27576,38...|\n",
      "|0009eaea3325de8c|Don't mean to bot...|    0|           0|      0|     0|     0|            0|[don't, mean, to,...|(262144,[5000,722...|\n",
      "+----------------+--------------------+-----+------------+-------+------+------+-------------+--------------------+--------------------+\n",
      "only showing top 20 rows\n",
      "\n"
     ]
    }
   ],
   "source": [
    "tf.show()"
   ]
  },
  {
   "cell_type": "code",
   "execution_count": 16,
   "metadata": {},
   "outputs": [
    {
     "name": "stdout",
     "output_type": "stream",
     "text": [
      "+----------------+--------------------+--------------------+--------------------+\n",
      "|              id|        comment_text|               words|            features|\n",
      "+----------------+--------------------+--------------------+--------------------+\n",
      "|00001cee341fdb12|Yo bitch Ja Rule ...|[yo, bitch, ja, r...|(262144,[15716,18...|\n",
      "|0000247867823ef7|== From RfC == \\n...|[==, from, rfc, =...|(262144,[28328,30...|\n",
      "|00013b17ad220c46|\" \\n\\n == Sources...|[\", , , , ==, sou...|(262144,[24695,38...|\n",
      "|00017563c3f7919a|:If you have a lo...|[:if, you, have, ...|(262144,[19036,23...|\n",
      "|00017695ad8997eb|I don't anonymous...|[i, don't, anonym...|(262144,[7221,828...|\n",
      "|0001ea8717f6de06|Thank you for und...|[thank, you, for,...|(262144,[4522,190...|\n",
      "|00024115d4cbde0f|Please do not add...|[please, do, not,...|(262144,[11853,27...|\n",
      "|000247e83dcc1211|:Dear god this si...|[:dear, god, this...|(262144,[94851,10...|\n",
      "|00025358d4737918|\" \\n Only a fool ...|[\", , , only, a, ...|(262144,[1172,152...|\n",
      "|00026d1092fe71cc|== Double Redirec...|[==, double, redi...|(262144,[7221,246...|\n",
      "|0002eadc3b301559|I think its crap ...|[i, think, its, c...|(262144,[5985,190...|\n",
      "|0002f87b16116a7f|\"::: Somebody wil...|[\":::, somebody, ...|(262144,[3928,577...|\n",
      "|0003806b11932181|, 25 February 201...|[,, 25, february,...|(262144,[3283,728...|\n",
      "|0003e1cccfd5a40a|\" \\n\\n It says it...|[\", , , , it, say...|(262144,[6498,103...|\n",
      "|00059ace3e3e9a53|\" \\n\\n == Before ...|[\", , , , ==, bef...|(262144,[8538,176...|\n",
      "|000634272d0d44eb|==Current Positio...|[==current, posit...|(262144,[1857,484...|\n",
      "|000663aff0fffc80|this other one fr...|[this, other, one...|(262144,[21823,10...|\n",
      "|000689dd34e20979|== Reason for ban...|[==, reason, for,...|(262144,[2720,936...|\n",
      "|000834769115370c|:: Wallamoose was...|[::, wallamoose, ...|(262144,[6802,190...|\n",
      "|000844b52dee5f3f||blocked]] from e...|[|blocked]], from...|(262144,[92888,10...|\n",
      "+----------------+--------------------+--------------------+--------------------+\n",
      "only showing top 20 rows\n",
      "\n"
     ]
    }
   ],
   "source": [
    "test_tf.show()"
   ]
  },
  {
   "attachments": {},
   "cell_type": "markdown",
   "metadata": {},
   "source": [
    "## Building Logistic Regression to identify toxic comments"
   ]
  },
  {
   "cell_type": "code",
   "execution_count": 17,
   "metadata": {},
   "outputs": [],
   "source": [
    "lr = LogisticRegression(featuresCol=\"features\", labelCol=\"toxic\")\n",
    "lrModel = lr.fit(tf)\n",
    "\n",
    "lrPrediction = lrModel.transform(test_tf)"
   ]
  },
  {
   "cell_type": "code",
   "execution_count": 18,
   "metadata": {},
   "outputs": [
    {
     "name": "stdout",
     "output_type": "stream",
     "text": [
      "+----------------+--------------------+--------------------+--------------------+--------------------+--------------------+----------+\n",
      "|              id|        comment_text|               words|            features|       rawPrediction|         probability|prediction|\n",
      "+----------------+--------------------+--------------------+--------------------+--------------------+--------------------+----------+\n",
      "|00001cee341fdb12|Yo bitch Ja Rule ...|[yo, bitch, ja, r...|(262144,[15716,18...|[-57.914027262729...|[7.05111073244556...|       1.0|\n",
      "|0000247867823ef7|== From RfC == \\n...|[==, from, rfc, =...|(262144,[28328,30...|[4.98390268172049...|[0.99319927893242...|       0.0|\n",
      "|00013b17ad220c46|\" \\n\\n == Sources...|[\", , , , ==, sou...|(262144,[24695,38...|[4.77661469909058...|[0.99164590867774...|       0.0|\n",
      "|00017563c3f7919a|:If you have a lo...|[:if, you, have, ...|(262144,[19036,23...|[15.7158150926043...|[0.99999985047694...|       0.0|\n",
      "|00017695ad8997eb|I don't anonymous...|[i, don't, anonym...|(262144,[7221,828...|[17.3793675592333...|[0.99999997167065...|       0.0|\n",
      "|0001ea8717f6de06|Thank you for und...|[thank, you, for,...|(262144,[4522,190...|[10.8717578889372...|[0.99998101339591...|       0.0|\n",
      "|00024115d4cbde0f|Please do not add...|[please, do, not,...|(262144,[11853,27...|[21.6941159843707...|[0.99999999962123...|       0.0|\n",
      "|000247e83dcc1211|:Dear god this si...|[:dear, god, this...|(262144,[94851,10...|[-0.5857099759489...|[0.35761978929391...|       1.0|\n",
      "|00025358d4737918|\" \\n Only a fool ...|[\", , , only, a, ...|(262144,[1172,152...|[-19.783116632229...|[2.56036340157440...|       1.0|\n",
      "|00026d1092fe71cc|== Double Redirec...|[==, double, redi...|(262144,[7221,246...|[21.9502098749724...|[0.99999999970681...|       0.0|\n",
      "|0002eadc3b301559|I think its crap ...|[i, think, its, c...|(262144,[5985,190...|[-7.3806330783418...|[6.22818078621886...|       1.0|\n",
      "|0002f87b16116a7f|\"::: Somebody wil...|[\":::, somebody, ...|(262144,[3928,577...|[43.8702623560355...|           [1.0,0.0]|       0.0|\n",
      "|0003806b11932181|, 25 February 201...|[,, 25, february,...|(262144,[3283,728...|[36.6554653430106...|[0.99999999999999...|       0.0|\n",
      "|0003e1cccfd5a40a|\" \\n\\n It says it...|[\", , , , it, say...|(262144,[6498,103...|[40.5931137787565...|           [1.0,0.0]|       0.0|\n",
      "|00059ace3e3e9a53|\" \\n\\n == Before ...|[\", , , , ==, bef...|(262144,[8538,176...|[17.6345360263912...|[0.99999997805081...|       0.0|\n",
      "|000634272d0d44eb|==Current Positio...|[==current, posit...|(262144,[1857,484...|[44.2909433381308...|           [1.0,0.0]|       0.0|\n",
      "|000663aff0fffc80|this other one fr...|[this, other, one...|(262144,[21823,10...|[3.85754382972994...|[0.97931701107216...|       0.0|\n",
      "|000689dd34e20979|== Reason for ban...|[==, reason, for,...|(262144,[2720,936...|[29.1368247181662...|[0.99999999999977...|       0.0|\n",
      "|000834769115370c|:: Wallamoose was...|[::, wallamoose, ...|(262144,[6802,190...|[36.7400385508850...|           [1.0,0.0]|       0.0|\n",
      "|000844b52dee5f3f||blocked]] from e...|[|blocked]], from...|(262144,[92888,10...|[-1.2813606008137...|[0.21731870822411...|       1.0|\n",
      "+----------------+--------------------+--------------------+--------------------+--------------------+--------------------+----------+\n",
      "only showing top 20 rows\n",
      "\n"
     ]
    }
   ],
   "source": [
    "lrPrediction.show(20)"
   ]
  },
  {
   "cell_type": "code",
   "execution_count": 19,
   "metadata": {},
   "outputs": [
    {
     "data": {
      "text/plain": [
       "153164"
      ]
     },
     "execution_count": 19,
     "metadata": {},
     "output_type": "execute_result"
    }
   ],
   "source": [
    "lrPrediction.count()"
   ]
  },
  {
   "cell_type": "code",
   "execution_count": 20,
   "metadata": {},
   "outputs": [],
   "source": [
    "extract_prob = F.udf(lambda x: float(x[1]), T.FloatType())"
   ]
  },
  {
   "cell_type": "code",
   "execution_count": 21,
   "metadata": {},
   "outputs": [
    {
     "data": {
      "text/plain": [
       "pyspark.sql.dataframe.DataFrame"
      ]
     },
     "execution_count": 21,
     "metadata": {},
     "output_type": "execute_result"
    }
   ],
   "source": [
    "type(lrPrediction)"
   ]
  },
  {
   "cell_type": "code",
   "execution_count": 22,
   "metadata": {},
   "outputs": [
    {
     "name": "stdout",
     "output_type": "stream",
     "text": [
      "+-------------+----------+\n",
      "|        proba|prediction|\n",
      "+-------------+----------+\n",
      "|          1.0|       1.0|\n",
      "|  0.006800721|       0.0|\n",
      "|  0.008354091|       0.0|\n",
      "| 1.4952306E-7|       0.0|\n",
      "| 2.8329346E-8|       0.0|\n",
      "| 1.8986604E-5|       0.0|\n",
      "| 3.787608E-10|       0.0|\n",
      "|   0.64238024|       1.0|\n",
      "|          1.0|       1.0|\n",
      "|2.9318725E-10|       0.0|\n",
      "|    0.9993772|       1.0|\n",
      "|          0.0|       0.0|\n",
      "| 2.220446E-16|       0.0|\n",
      "|          0.0|       0.0|\n",
      "|  2.194918E-8|       0.0|\n",
      "|          0.0|       0.0|\n",
      "|  0.020682989|       0.0|\n",
      "|2.2182256E-13|       0.0|\n",
      "|          0.0|       0.0|\n",
      "|    0.7826813|       1.0|\n",
      "+-------------+----------+\n",
      "only showing top 20 rows\n",
      "\n"
     ]
    }
   ],
   "source": [
    "lrPrediction.withColumn('proba', extract_prob(lrPrediction[\"probability\"])).select(\"proba\",\"prediction\").show()"
   ]
  },
  {
   "cell_type": "code",
   "execution_count": 23,
   "metadata": {},
   "outputs": [],
   "source": [
    "result = lrPrediction.select(\"id\", \"prediction\").withColumn(\"toxic\", lrPrediction[\"prediction\"]).drop(\"prediction\")"
   ]
  },
  {
   "attachments": {},
   "cell_type": "markdown",
   "metadata": {},
   "source": [
    "## Building Logistic Regression to identify the rest comments"
   ]
  },
  {
   "cell_type": "code",
   "execution_count": 24,
   "metadata": {},
   "outputs": [
    {
     "name": "stdout",
     "output_type": "stream",
     "text": [
      "+----------------+-----+------------+\n",
      "|              id|toxic|severe_toxic|\n",
      "+----------------+-----+------------+\n",
      "|000968ce11f5ee34|  0.0|         0.0|\n",
      "|00491682330fdd1d|  1.0|         0.0|\n",
      "|008eb47c4684d190|  1.0|         0.0|\n",
      "|00d251f47486b6d2|  0.0|         0.0|\n",
      "|0114ae82c53101a9|  1.0|         1.0|\n",
      "+----------------+-----+------------+\n",
      "only showing top 5 rows\n",
      "\n",
      "+----------------+-----+------------+-------+\n",
      "|              id|toxic|severe_toxic|obscene|\n",
      "+----------------+-----+------------+-------+\n",
      "|000968ce11f5ee34|  0.0|         0.0|    0.0|\n",
      "|00491682330fdd1d|  1.0|         0.0|    0.0|\n",
      "|008eb47c4684d190|  1.0|         0.0|    0.0|\n",
      "|00d251f47486b6d2|  0.0|         0.0|    0.0|\n",
      "|0114ae82c53101a9|  1.0|         1.0|    1.0|\n",
      "+----------------+-----+------------+-------+\n",
      "only showing top 5 rows\n",
      "\n",
      "+----------------+-----+------------+-------+------+\n",
      "|              id|toxic|severe_toxic|obscene|threat|\n",
      "+----------------+-----+------------+-------+------+\n",
      "|000968ce11f5ee34|  0.0|         0.0|    0.0|   0.0|\n",
      "|00491682330fdd1d|  1.0|         0.0|    0.0|   0.0|\n",
      "|008eb47c4684d190|  1.0|         0.0|    0.0|   0.0|\n",
      "|00d251f47486b6d2|  0.0|         0.0|    0.0|   0.0|\n",
      "|0114ae82c53101a9|  1.0|         1.0|    1.0|   0.0|\n",
      "+----------------+-----+------------+-------+------+\n",
      "only showing top 5 rows\n",
      "\n",
      "+----------------+-----+------------+-------+------+------+\n",
      "|              id|toxic|severe_toxic|obscene|threat|insult|\n",
      "+----------------+-----+------------+-------+------+------+\n",
      "|000968ce11f5ee34|  0.0|         0.0|    0.0|   0.0|   0.0|\n",
      "|00491682330fdd1d|  1.0|         0.0|    0.0|   0.0|   0.0|\n",
      "|008eb47c4684d190|  1.0|         0.0|    0.0|   0.0|   0.0|\n",
      "|00d251f47486b6d2|  0.0|         0.0|    0.0|   0.0|   0.0|\n",
      "|0114ae82c53101a9|  1.0|         1.0|    1.0|   0.0|   0.0|\n",
      "+----------------+-----+------------+-------+------+------+\n",
      "only showing top 5 rows\n",
      "\n",
      "+----------------+-----+------------+-------+------+------+-------------+\n",
      "|              id|toxic|severe_toxic|obscene|threat|insult|identity_hate|\n",
      "+----------------+-----+------------+-------+------+------+-------------+\n",
      "|000968ce11f5ee34|  0.0|         0.0|    0.0|   0.0|   0.0|          0.0|\n",
      "|00491682330fdd1d|  1.0|         0.0|    0.0|   0.0|   0.0|          0.0|\n",
      "|008eb47c4684d190|  1.0|         0.0|    0.0|   0.0|   0.0|          0.0|\n",
      "|00d251f47486b6d2|  0.0|         0.0|    0.0|   0.0|   0.0|          0.0|\n",
      "|0114ae82c53101a9|  1.0|         1.0|    1.0|   0.0|   0.0|          0.0|\n",
      "+----------------+-----+------------+-------+------+------+-------------+\n",
      "only showing top 5 rows\n",
      "\n"
     ]
    }
   ],
   "source": [
    "criterias = [\"severe_toxic\", \"obscene\", \"threat\", \"insult\", \"identity_hate\"]\n",
    "for c in criterias:\n",
    "    lr = LogisticRegression(featuresCol=\"features\", labelCol=c)\n",
    "    lrModel = lr.fit(tf)\n",
    "\n",
    "    lrPrediction = lrModel.transform(test_tf)\n",
    "    result = result.join(lrPrediction.select('id', 'prediction'), on=\"id\")\n",
    "    result = result.withColumn(c, result[\"prediction\"]).drop(\"prediction\")\n",
    "    result.show(5)"
   ]
  },
  {
   "cell_type": "code",
   "execution_count": 25,
   "metadata": {},
   "outputs": [
    {
     "name": "stdout",
     "output_type": "stream",
     "text": [
      "+----------------+-----+------------+-------+------+------+-------------+\n",
      "|              id|toxic|severe_toxic|obscene|threat|insult|identity_hate|\n",
      "+----------------+-----+------------+-------+------+------+-------------+\n",
      "|000968ce11f5ee34|  0.0|         0.0|    0.0|   0.0|   0.0|          0.0|\n",
      "|00491682330fdd1d|  1.0|         0.0|    0.0|   0.0|   0.0|          0.0|\n",
      "|008eb47c4684d190|  1.0|         0.0|    0.0|   0.0|   0.0|          0.0|\n",
      "|00d251f47486b6d2|  0.0|         0.0|    0.0|   0.0|   0.0|          0.0|\n",
      "|0114ae82c53101a9|  1.0|         1.0|    1.0|   0.0|   0.0|          0.0|\n",
      "|012c7429c5a34290|  1.0|         0.0|    0.0|   0.0|   0.0|          0.0|\n",
      "|015017ec394a264e|  1.0|         0.0|    0.0|   0.0|   0.0|          0.0|\n",
      "|01d94c94a86a4327|  0.0|         0.0|    0.0|   0.0|   0.0|          0.0|\n",
      "|020eb3a1af28453f|  1.0|         0.0|    1.0|   0.0|   1.0|          0.0|\n",
      "|0216909e11cfeac0|  0.0|         0.0|    0.0|   0.0|   0.0|          1.0|\n",
      "|026460a698a91698|  0.0|         0.0|    0.0|   0.0|   0.0|          0.0|\n",
      "|027cc0ae6a33392e|  1.0|         0.0|    0.0|   0.0|   0.0|          0.0|\n",
      "|02a5d713614fad26|  0.0|         0.0|    0.0|   0.0|   1.0|          0.0|\n",
      "|02aabe84e138c05f|  0.0|         0.0|    0.0|   0.0|   0.0|          0.0|\n",
      "|02f2b8d194b06506|  0.0|         0.0|    0.0|   0.0|   0.0|          0.0|\n",
      "|02f60289932b3234|  1.0|         0.0|    0.0|   0.0|   0.0|          0.0|\n",
      "|0311a466e20edcb4|  0.0|         0.0|    0.0|   0.0|   1.0|          0.0|\n",
      "|034ea2a7c86e7e49|  1.0|         0.0|    0.0|   0.0|   1.0|          0.0|\n",
      "|039acb76708e55a6|  0.0|         0.0|    0.0|   0.0|   0.0|          0.0|\n",
      "|03c81594154c4651|  0.0|         0.0|    0.0|   0.0|   0.0|          0.0|\n",
      "|047d27b52ae75f8c|  0.0|         0.0|    0.0|   0.0|   0.0|          0.0|\n",
      "|048a53c1196ce711|  0.0|         0.0|    0.0|   0.0|   0.0|          0.0|\n",
      "|04b30f7b79939eed|  0.0|         0.0|    0.0|   0.0|   0.0|          0.0|\n",
      "|04deecc76e7dca2a|  0.0|         0.0|    0.0|   0.0|   0.0|          0.0|\n",
      "|0574365958e457d4|  1.0|         0.0|    0.0|   0.0|   0.0|          0.0|\n",
      "|0619500c6df7c094|  1.0|         0.0|    1.0|   0.0|   1.0|          0.0|\n",
      "|0648909c83446846|  1.0|         1.0|    1.0|   0.0|   1.0|          0.0|\n",
      "|064b7038fcf55e40|  0.0|         0.0|    0.0|   0.0|   0.0|          0.0|\n",
      "|0653ad1db61c9053|  0.0|         0.0|    0.0|   0.0|   0.0|          0.0|\n",
      "|067b5e92305b70d4|  0.0|         0.0|    0.0|   0.0|   0.0|          0.0|\n",
      "+----------------+-----+------------+-------+------+------+-------------+\n",
      "only showing top 30 rows\n",
      "\n"
     ]
    }
   ],
   "source": [
    "result.show(30)"
   ]
  },
  {
   "cell_type": "code",
   "execution_count": 26,
   "metadata": {},
   "outputs": [],
   "source": [
    "result.coalesce(1).write.csv('result',header=True)"
   ]
  }
 ],
 "metadata": {
  "kernelspec": {
   "display_name": "Python 3",
   "language": "python",
   "name": "python3"
  },
  "language_info": {
   "codemirror_mode": {
    "name": "ipython",
    "version": 3
   },
   "file_extension": ".py",
   "mimetype": "text/x-python",
   "name": "python",
   "nbconvert_exporter": "python",
   "pygments_lexer": "ipython3",
   "version": "3.9.2"
  },
  "orig_nbformat": 4
 },
 "nbformat": 4,
 "nbformat_minor": 2
}
